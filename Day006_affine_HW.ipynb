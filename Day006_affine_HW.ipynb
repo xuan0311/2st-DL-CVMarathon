{
 "cells": [
  {
   "cell_type": "markdown",
   "metadata": {},
   "source": [
    "# 作業\n",
    "\n",
    "練習以旋轉變換 + 平移變換來實現仿射變換\n",
    "> 旋轉 45 度 + 縮放 0.5 倍 + 平移 (x+100, y-50)"
   ]
  },
  {
   "cell_type": "code",
   "execution_count": 2,
   "metadata": {},
   "outputs": [],
   "source": [
    "# 載入套件\n",
    "import cv2\n",
    "import time\n",
    "import numpy as np\n",
    "\n",
    "# 以彩色圖片的方式載入\n",
    "img = cv2.imread('Data/lena.png')"
   ]
  },
  {
   "cell_type": "markdown",
   "metadata": {},
   "source": [
    "## Affine Transformation - Case 2: any three point"
   ]
  },
  {
   "cell_type": "code",
   "execution_count": 4,
   "metadata": {},
   "outputs": [],
   "source": [
    "# 給定兩兩一對，共三對的點\n",
    "# 這邊我們先用手動設定三對點，一般情況下會有點的資料或是透過介面手動標記三個點\n",
    "rows, cols = img.shape[:2]\n",
    "pt1 = np.array([[50,50], [300,100], [200,300]], dtype=np.float32)\n",
    "pt2 = np.array([[80,80], [330,150], [300,300]], dtype=np.float32)\n",
    "\n",
    "# 取得 affine 矩陣並做 affine 操作\n",
    "# cv2.getAffineTransform(): 變換矩陣\n",
    "M_affine = cv2.getAffineTransform(pt1, pt2)\n",
    "# 旋轉\n",
    "# cv2.warpAffine() : 用仿射變換實現平移\n",
    "img_affine = cv2.warpAffine(img, M_affine, (cols, rows))\n",
    "# 在圖片上標記點\n",
    "# 複製圖片\n",
    "img_copy = img.copy()\n",
    "# enumerate多用於在for循環中得到計數，利用它可以同時獲得索引和值，即需要index和value值的時候可以使用enumerate\n",
    "for idx, pts in enumerate(pt1):\n",
    "    pts = tuple(map(int, pts))\n",
    "    # 畫圓\n",
    "    cv2.circle(img_copy, pts, 3, (0, 255, 0), -1)\n",
    "    # 圖片加上文字\n",
    "    cv2.putText(img_copy, str(idx), (pts[0]+5, pts[1]+5), cv2.FONT_HERSHEY_COMPLEX, 1, (0, 255, 0), 1)\n",
    "\n",
    "# enumerate多用於在for循環中得到計數，利用它可以同時獲得索引和值，即需要index和value值的時候可以使用enumerate    \n",
    "for idx, pts in enumerate(pt2):\n",
    "    pts = tuple(map(int, pts))\n",
    "    # 畫圓\n",
    "    cv2.circle(img_affine, pts, 3, (0, 255, 0), -1)\n",
    "    # 圖片加上文字\n",
    "    cv2.putText(img_affine, str(idx), (pts[0]+5, pts[1]+5), cv2.FONT_HERSHEY_COMPLEX, 1, (0, 255, 0), 1)\n",
    "\n",
    "# 組合 + 顯示圖片\n",
    "img_show_affine = np.hstack((img_copy, img_affine))\n",
    "while True:\n",
    "    cv2.imshow('Rotate 45, scale 0.5, Translate x+100, y-50', img_show_affine)\n",
    "    k = cv2.waitKey(0)\n",
    "    if k == 27:\n",
    "        cv2.destroyAllWindows() #   cv2.destroyAllWindows(): 關閉所有 OpenCV 的視窗\n",
    "        break\n",
    "    \"\"\"\n",
    "    cv2.waitKey\n",
    "    用來等待與讀取使用者按下的按鍵，而其參數是等待時間（單位為毫秒），若設定為 0 就表示持續等待至使用者按下按鍵為止。\n",
    "    \"\"\""
   ]
  },
  {
   "cell_type": "code",
   "execution_count": null,
   "metadata": {},
   "outputs": [],
   "source": []
  }
 ],
 "metadata": {
  "kernelspec": {
   "display_name": "Python 3",
   "language": "python",
   "name": "python3"
  },
  "language_info": {
   "codemirror_mode": {
    "name": "ipython",
    "version": 3
   },
   "file_extension": ".py",
   "mimetype": "text/x-python",
   "name": "python",
   "nbconvert_exporter": "python",
   "pygments_lexer": "ipython3",
   "version": "3.7.6"
  }
 },
 "nbformat": 4,
 "nbformat_minor": 2
}
