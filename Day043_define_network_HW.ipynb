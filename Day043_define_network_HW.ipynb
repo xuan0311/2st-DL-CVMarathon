{
  "nbformat": 4,
  "nbformat_minor": 0,
  "metadata": {
    "kernelspec": {
      "display_name": "Python 3",
      "language": "python",
      "name": "python3"
    },
    "language_info": {
      "codemirror_mode": {
        "name": "ipython",
        "version": 3
      },
      "file_extension": ".py",
      "mimetype": "text/x-python",
      "name": "python",
      "nbconvert_exporter": "python",
      "pygments_lexer": "ipython3",
      "version": "3.6.4"
    },
    "colab": {
      "name": "Day43_define_network_HW.ipynb",
      "provenance": []
    }
  },
  "cells": [
    {
      "cell_type": "markdown",
      "metadata": {
        "id": "slkZeAWj76aJ",
        "colab_type": "text"
      },
      "source": [
        "### 作業\n",
        "請嘗試使用 keras 來定義一個直接預測 15 個人臉關鍵點坐標的檢測網路，以及適合這個網路的 loss function\n",
        "\n",
        "\n",
        "Hint: 參考前面的電腦視覺深度學習基礎"
      ]
    },
    {
      "cell_type": "markdown",
      "metadata": {
        "id": "u0MfDGj976aK",
        "colab_type": "text"
      },
      "source": [
        "### 範例\n",
        "接下來的程式碼會示範如何定義一個簡單的 CNN model"
      ]
    },
    {
      "cell_type": "code",
      "metadata": {
        "id": "8JLMBduY76aK",
        "colab_type": "code",
        "colab": {}
      },
      "source": [
        "import numpy as np\n",
        "import pandas as pd\n",
        "import matplotlib.pyplot as plt\n",
        "%matplotlib inline"
      ],
      "execution_count": 0,
      "outputs": []
    },
    {
      "cell_type": "code",
      "metadata": {
        "id": "DhBsbsqY76aO",
        "colab_type": "code",
        "colab": {
          "base_uri": "https://localhost:8080/",
          "height": 289
        },
        "outputId": "675ea8f6-f96c-4549-eb78-d83db701bd15"
      },
      "source": [
        "# 使用 colab 環境的同學請執行以下程式碼\n",
        " %tensorflow_version 1.x # 確保 colob 中使用的 tensorflow 是 1.x 版本而不是 tensorflow 2\n",
        "import tensorflow as tf\n",
        "print(\"tensorflow版本為: \",tf.__version__)\n",
        "\n",
        "import os\n",
        "from google.colab import drive \n",
        "drive.mount('/content/gdrive') # 將 google drive 掛載在 colob，\n",
        "# 下載基於 keras 的 yolov3 程式碼\n",
        "%cd 'gdrive/My Drive'\n",
        "# !git clone https://github.com/qqwweee/keras-yolo3 # 如果之前已經下載過就可以註解掉\n",
        "# 此處為google drive中的文件路徑，drive為之前指定的工作跟目錄，要加上位置\n",
        "# 如果存放的路徑有變，從/content/drive/My Drive/XXXXX...做調整\n",
        "path = \"/content/gdrive/My Drive/深度學習與電腦視覺學習馬拉松-第二屆/Day_42\"\n",
        "os.chdir(path)  #os.chdir():改變當前工作目錄到指定的路徑。\n",
        "# %cd keras-yolo3\n",
        "!ls "
      ],
      "execution_count": 2,
      "outputs": [
        {
          "output_type": "stream",
          "text": [
            "`%tensorflow_version` only switches the major version: 1.x or 2.x.\n",
            "You set: `1.x # 確保 colob 中使用的 tensorflow 是 1.x 版本而不是 tensorflow 2`. This will be interpreted as: `1.x`.\n",
            "\n",
            "\n",
            "TensorFlow 1.x selected.\n",
            "tensorflow版本為:  1.15.2\n",
            "Go to this URL in a browser: https://accounts.google.com/o/oauth2/auth?client_id=947318989803-6bn6qk8qdgf4n4g3pfee6491hc0brc4i.apps.googleusercontent.com&redirect_uri=urn%3aietf%3awg%3aoauth%3a2.0%3aoob&response_type=code&scope=email%20https%3a%2f%2fwww.googleapis.com%2fauth%2fdocs.test%20https%3a%2f%2fwww.googleapis.com%2fauth%2fdrive%20https%3a%2f%2fwww.googleapis.com%2fauth%2fdrive.photos.readonly%20https%3a%2f%2fwww.googleapis.com%2fauth%2fpeopleapi.readonly\n",
            "\n",
            "Enter your authorization code:\n",
            "··········\n",
            "Mounted at /content/gdrive\n",
            "/content/gdrive/My Drive\n",
            "Day42_explore_facial_keypoint_data_HW.ipynb\t test.csv      training.zip\n",
            "Day42_explore_facial_keypoint_data_Sample.ipynb  test.zip\n",
            "__PDF__.pdf\t\t\t\t\t training.csv\n"
          ],
          "name": "stdout"
        }
      ]
    },
    {
      "cell_type": "code",
      "metadata": {
        "id": "HO3XCyOc76aQ",
        "colab_type": "code",
        "colab": {}
      },
      "source": [
        "# 讀取資料集以及做前處理的函數\n",
        "def load_data(dirname):\n",
        "    # 讀取 csv 文件\n",
        "    data = pd.read_csv(dirname)\n",
        "    # 過濾有缺失值的 row\n",
        "    data = data.dropna()\n",
        "\n",
        "    # 將圖片像素值讀取為 numpy array 的形態\n",
        "    #pd.DataFrame.apply（）:用於將給定函數應用於整個DataFrame\n",
        "    #np.fromstring:將字符轉化成nd.array對象\n",
        "    #np.values:讀取內部的值\n",
        "    data['Image'] = data['Image'].apply(lambda img: np.fromstring(img, sep=' ')).values \n",
        "\n",
        "    # 單獨把圖像 array 抽取出來\n",
        "    #np.vstack:沿著垂直方向將矩陣堆疊起來\n",
        "    # convert the string image data to float\n",
        "    imgs = np.vstack(data['Image'].values)/255\n",
        "    # reshape 為 96 x 96\n",
        "    # reshape the matrix\n",
        "    imgs = imgs.reshape(data.shape[0], 96, 96)\n",
        "    # 轉換為 float\n",
        "    # convert to float\n",
        "    imgs = imgs.astype(np.float32)\n",
        "    \n",
        "    # 提取坐標的部分\n",
        "    # extract the points \n",
        "    points = data[data.columns[:-1]].values\n",
        "\n",
        "    # 轉換為 float\n",
        "    #convert it to float\n",
        "    points = points.astype(np.float32)\n",
        "\n",
        "    # normalize 坐標值到 [-0.5, 0.5]\n",
        "    points = points/96 - 0.5\n",
        "    \n",
        "    return imgs, points"
      ],
      "execution_count": 0,
      "outputs": []
    },
    {
      "cell_type": "code",
      "metadata": {
        "id": "M6A6-hYo76aS",
        "colab_type": "code",
        "colab": {
          "base_uri": "https://localhost:8080/",
          "height": 50
        },
        "outputId": "1024ca42-1ee4-48c4-89f6-3e6f45eb63b9"
      },
      "source": [
        "# 讀取資料\n",
        "imgs_train, points_train = load_data(dirname = 'training.csv')\n",
        "print(\"圖像資料:\", imgs_train.shape, \"\\n關鍵點資料:\", points_train.shape)"
      ],
      "execution_count": 4,
      "outputs": [
        {
          "output_type": "stream",
          "text": [
            "圖像資料: (2140, 96, 96) \n",
            "關鍵點資料: (2140, 30)\n"
          ],
          "name": "stdout"
        }
      ]
    },
    {
      "cell_type": "markdown",
      "metadata": {
        "id": "56zkmOsI8C3X",
        "colab_type": "text"
      },
      "source": [
        "訓練資料的「形狀」為，\n",
        "input shape 是 96 x 96，\n",
        "output shape 是一個 30 維的向量"
      ]
    },
    {
      "cell_type": "code",
      "metadata": {
        "id": "jlcSi2Kq76aV",
        "colab_type": "code",
        "colab": {
          "base_uri": "https://localhost:8080/",
          "height": 34
        },
        "outputId": "d4d91bf6-4e3c-403b-aa33-99d90152320d"
      },
      "source": [
        "from keras.models import Sequential\n",
        "from keras.layers import Conv2D, MaxPooling2D, Flatten, Dense, Dropout"
      ],
      "execution_count": 5,
      "outputs": [
        {
          "output_type": "stream",
          "text": [
            "Using TensorFlow backend.\n"
          ],
          "name": "stderr"
        }
      ]
    },
    {
      "cell_type": "code",
      "metadata": {
        "id": "JAc7WJln76aX",
        "colab_type": "code",
        "colab": {}
      },
      "source": [
        "# 定義人臉關鍵點檢測網路\n",
        "model = Sequential()\n",
        "\n",
        "# 定義神經網路的輸入, hidden layer 以及輸出\n",
        "# 建立卷積層，filter=16,即 output space 的深度, Kernal Size: 3x3, activation function 採用 relu\n",
        "# 定義神經網路的輸入, hidden layer 以及輸出\n",
        "# 建立卷積層，filter=16,即 output space 的深度, Kernal Size: 3x3, activation function 採用 relu\n",
        "model.add(Conv2D(filters=16, kernel_size=3, activation='relu', input_shape=(96, 96, 1)))\n",
        "model.add(MaxPooling2D(pool_size=2))\n",
        "# 建立卷積層，filter=32,即 output size, Kernal Size: 3x3, activation function 採用 relu\n",
        "model.add(Conv2D(filters=32, kernel_size=3, activation='relu'))\n",
        "# 建立池化層，池化大小=2x2，取最大值\n",
        "model.add(MaxPooling2D(pool_size=2))\n",
        "\n",
        "# 建立卷積層，filter=64,即 output size, Kernal Size: 3x3, activation function 採用 relu\n",
        "model.add(Conv2D(filters=64, kernel_size=3, activation='relu'))\n",
        "# 建立池化層，池化大小=2x2，取最大值\n",
        "model.add(MaxPooling2D(pool_size=2))\n",
        "\n",
        "# 建立卷積層，filter=128,即 output size, Kernal Size: 3x3, activation function 採用 relu\n",
        "model.add(Conv2D(filters=128, kernel_size=3, activation='relu'))\n",
        "# 建立池化層，池化大小=2x2，取最大值\n",
        "model.add(MaxPooling2D(pool_size=2))\n",
        "\n",
        "# Flatten層把多維的輸入一維化，常用在從卷積層到全連接層的過渡。\n",
        "model.add(Flatten())\n",
        "# 全連接層: 512個output\n",
        "model.add(Dense(512, activation='relu'))\n",
        "# Dropout層隨機斷開輸入神經元，用於防止過度擬合，斷開比例:0.2\n",
        "model.add(Dropout(0.2))\n",
        "# 全連接層: 512個output\n",
        "model.add(Dense(512, activation='relu'))\n",
        "# Dropout層隨機斷開輸入神經元，用於防止過度擬合，斷開比例:0.2\n",
        "model.add(Dropout(0.2))\n",
        "\n",
        "# 最後輸出 30 維的向量，也就是 15 個關鍵點的值\n",
        "model.add(Dense(30))\n",
        "\n",
        "# 配置 loss funtion 和 optimizer\n",
        "model.compile(loss='mean_squared_error', optimizer='Adam')"
      ],
      "execution_count": 0,
      "outputs": []
    },
    {
      "cell_type": "code",
      "metadata": {
        "id": "vIaW4utm76aa",
        "colab_type": "code",
        "colab": {
          "base_uri": "https://localhost:8080/",
          "height": 622
        },
        "outputId": "7d43fd7a-ee4f-4847-e015-0359436e4945"
      },
      "source": [
        "# 印出網路結構\n",
        "model.summary()"
      ],
      "execution_count": 9,
      "outputs": [
        {
          "output_type": "stream",
          "text": [
            "Model: \"sequential_2\"\n",
            "_________________________________________________________________\n",
            "Layer (type)                 Output Shape              Param #   \n",
            "=================================================================\n",
            "conv2d_5 (Conv2D)            (None, 94, 94, 16)        160       \n",
            "_________________________________________________________________\n",
            "max_pooling2d_5 (MaxPooling2 (None, 47, 47, 16)        0         \n",
            "_________________________________________________________________\n",
            "conv2d_6 (Conv2D)            (None, 45, 45, 32)        4640      \n",
            "_________________________________________________________________\n",
            "max_pooling2d_6 (MaxPooling2 (None, 22, 22, 32)        0         \n",
            "_________________________________________________________________\n",
            "conv2d_7 (Conv2D)            (None, 20, 20, 64)        18496     \n",
            "_________________________________________________________________\n",
            "max_pooling2d_7 (MaxPooling2 (None, 10, 10, 64)        0         \n",
            "_________________________________________________________________\n",
            "conv2d_8 (Conv2D)            (None, 8, 8, 128)         73856     \n",
            "_________________________________________________________________\n",
            "max_pooling2d_8 (MaxPooling2 (None, 4, 4, 128)         0         \n",
            "_________________________________________________________________\n",
            "flatten_2 (Flatten)          (None, 2048)              0         \n",
            "_________________________________________________________________\n",
            "dense_4 (Dense)              (None, 512)               1049088   \n",
            "_________________________________________________________________\n",
            "dropout_3 (Dropout)          (None, 512)               0         \n",
            "_________________________________________________________________\n",
            "dense_5 (Dense)              (None, 512)               262656    \n",
            "_________________________________________________________________\n",
            "dropout_4 (Dropout)          (None, 512)               0         \n",
            "_________________________________________________________________\n",
            "dense_6 (Dense)              (None, 30)                15390     \n",
            "=================================================================\n",
            "Total params: 1,424,286\n",
            "Trainable params: 1,424,286\n",
            "Non-trainable params: 0\n",
            "_________________________________________________________________\n"
          ],
          "name": "stdout"
        }
      ]
    }
  ]
}
