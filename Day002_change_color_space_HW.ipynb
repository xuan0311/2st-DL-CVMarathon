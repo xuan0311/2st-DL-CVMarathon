{
 "cells": [
  {
   "cell_type": "markdown",
   "metadata": {},
   "source": [
    "# 作業\n",
    "\n",
    "使用 [Lena](http://optipng.sourceforge.net/pngtech/img/lena.png)\n",
    "\n",
    "- 改變圖片的 color space (`HLS`, `LAB`) 並呈現"
   ]
  },
  {
   "cell_type": "markdown",
   "metadata": {},
   "source": [
    "cv2.IMREAD_COLOR (預設值)\n",
    "\n",
    "    載入包含 Blue, Green, Red 三個 channel 的彩⾊色圖片\n",
    "\n",
    "cv2.IMREAD_GRAYSCALE\n",
    "\n",
    "    載入灰階格式的圖片\n",
    "\n",
    "cv2.IMREAD_UNCHANGED\n",
    "\n",
    "    載入圖片中所有 channel"
   ]
  },
  {
   "cell_type": "code",
   "execution_count": 2,
   "metadata": {},
   "outputs": [],
   "source": [
    "# 載入套件\n",
    "import cv2\n",
    "\n",
    "# 設定檔案路徑\n",
    "img_path = 'Data/lena.png'\n",
    "\n",
    "# 以彩色圖片的方式載入\n",
    "# cv2.imread:用來載入圖片\n",
    "img = cv2.imread(img_path, cv2.IMREAD_COLOR)\n",
    "\n",
    "# 改變不同的 color space\n",
    "img_hls = cv2.cvtColor(img, cv2.COLOR_BGR2HLS) # cv2.COLOR_BGR2HSL: 從 BGR 轉換到 HSL\n",
    "\n",
    "# 為了要不斷顯示圖片，所以使用一個迴圈\n",
    "while True:\n",
    "    cv2.imshow('bgr', img) #'bgr':視窗名字，img:要顯示的圖片。\n",
    "    cv2.imshow('hsv', img_hls) # 'gray': 視窗名字，img_hsv: 要顯示的名字。\n",
    "\n",
    "    # 直到按下 ESC 鍵才會自動關閉視窗結束程式\n",
    "    # 按下任意鍵則關閉所有視窗\n",
    "    k = cv2.waitKey(0)\n",
    "    if k == 27:\n",
    "        cv2.destroyAllWindows() #   cv2.destroyAllWindows(): 關閉所有 OpenCV 的視窗\n",
    "        break\n",
    "    \"\"\"\n",
    "    cv2.waitKey\n",
    "    用來等待與讀取使用者按下的按鍵，而其參數是等待時間（單位為毫秒），若設定為 0 就表示持續等待至使用者按下按鍵為止。\n",
    "    \"\"\""
   ]
  },
  {
   "cell_type": "markdown",
   "metadata": {},
   "source": [
    "# Reference"
   ]
  },
  {
   "cell_type": "markdown",
   "metadata": {},
   "source": [
    "https://blog.gtwang.org/programming/opencv-basic-image-read-and-write-tutorial/"
   ]
  },
  {
   "cell_type": "code",
   "execution_count": null,
   "metadata": {},
   "outputs": [],
   "source": []
  }
 ],
 "metadata": {
  "kernelspec": {
   "display_name": "Python 3",
   "language": "python",
   "name": "python3"
  },
  "language_info": {
   "codemirror_mode": {
    "name": "ipython",
    "version": 3
   },
   "file_extension": ".py",
   "mimetype": "text/x-python",
   "name": "python",
   "nbconvert_exporter": "python",
   "pygments_lexer": "ipython3",
   "version": "3.7.6"
  }
 },
 "nbformat": 4,
 "nbformat_minor": 2
}
