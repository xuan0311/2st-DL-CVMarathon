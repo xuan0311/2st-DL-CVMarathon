{
 "cells": [
  {
   "cell_type": "markdown",
   "metadata": {},
   "source": [
    "## 『作業內容』\n",
    "####   依照指示，搭建Maxpooling層與全連接層"
   ]
  },
  {
   "cell_type": "markdown",
   "metadata": {},
   "source": [
    "## 『目標』\n",
    "####   了解Maxpooling的原理與CNN、FC層連結的方式"
   ]
  },
  {
   "cell_type": "code",
   "execution_count": 1,
   "metadata": {},
   "outputs": [
    {
     "name": "stderr",
     "output_type": "stream",
     "text": [
      "Using TensorFlow backend.\n",
      "C:\\ProgramData\\Anaconda3\\lib\\site-packages\\tensorflow\\python\\framework\\dtypes.py:516: FutureWarning: Passing (type, 1) or '1type' as a synonym of type is deprecated; in a future version of numpy, it will be understood as (type, (1,)) / '(1,)type'.\n",
      "  _np_qint8 = np.dtype([(\"qint8\", np.int8, 1)])\n",
      "C:\\ProgramData\\Anaconda3\\lib\\site-packages\\tensorflow\\python\\framework\\dtypes.py:517: FutureWarning: Passing (type, 1) or '1type' as a synonym of type is deprecated; in a future version of numpy, it will be understood as (type, (1,)) / '(1,)type'.\n",
      "  _np_quint8 = np.dtype([(\"quint8\", np.uint8, 1)])\n",
      "C:\\ProgramData\\Anaconda3\\lib\\site-packages\\tensorflow\\python\\framework\\dtypes.py:518: FutureWarning: Passing (type, 1) or '1type' as a synonym of type is deprecated; in a future version of numpy, it will be understood as (type, (1,)) / '(1,)type'.\n",
      "  _np_qint16 = np.dtype([(\"qint16\", np.int16, 1)])\n",
      "C:\\ProgramData\\Anaconda3\\lib\\site-packages\\tensorflow\\python\\framework\\dtypes.py:519: FutureWarning: Passing (type, 1) or '1type' as a synonym of type is deprecated; in a future version of numpy, it will be understood as (type, (1,)) / '(1,)type'.\n",
      "  _np_quint16 = np.dtype([(\"quint16\", np.uint16, 1)])\n",
      "C:\\ProgramData\\Anaconda3\\lib\\site-packages\\tensorflow\\python\\framework\\dtypes.py:520: FutureWarning: Passing (type, 1) or '1type' as a synonym of type is deprecated; in a future version of numpy, it will be understood as (type, (1,)) / '(1,)type'.\n",
      "  _np_qint32 = np.dtype([(\"qint32\", np.int32, 1)])\n",
      "C:\\ProgramData\\Anaconda3\\lib\\site-packages\\tensorflow\\python\\framework\\dtypes.py:525: FutureWarning: Passing (type, 1) or '1type' as a synonym of type is deprecated; in a future version of numpy, it will be understood as (type, (1,)) / '(1,)type'.\n",
      "  np_resource = np.dtype([(\"resource\", np.ubyte, 1)])\n",
      "C:\\ProgramData\\Anaconda3\\lib\\site-packages\\tensorboard\\compat\\tensorflow_stub\\dtypes.py:541: FutureWarning: Passing (type, 1) or '1type' as a synonym of type is deprecated; in a future version of numpy, it will be understood as (type, (1,)) / '(1,)type'.\n",
      "  _np_qint8 = np.dtype([(\"qint8\", np.int8, 1)])\n",
      "C:\\ProgramData\\Anaconda3\\lib\\site-packages\\tensorboard\\compat\\tensorflow_stub\\dtypes.py:542: FutureWarning: Passing (type, 1) or '1type' as a synonym of type is deprecated; in a future version of numpy, it will be understood as (type, (1,)) / '(1,)type'.\n",
      "  _np_quint8 = np.dtype([(\"quint8\", np.uint8, 1)])\n",
      "C:\\ProgramData\\Anaconda3\\lib\\site-packages\\tensorboard\\compat\\tensorflow_stub\\dtypes.py:543: FutureWarning: Passing (type, 1) or '1type' as a synonym of type is deprecated; in a future version of numpy, it will be understood as (type, (1,)) / '(1,)type'.\n",
      "  _np_qint16 = np.dtype([(\"qint16\", np.int16, 1)])\n",
      "C:\\ProgramData\\Anaconda3\\lib\\site-packages\\tensorboard\\compat\\tensorflow_stub\\dtypes.py:544: FutureWarning: Passing (type, 1) or '1type' as a synonym of type is deprecated; in a future version of numpy, it will be understood as (type, (1,)) / '(1,)type'.\n",
      "  _np_quint16 = np.dtype([(\"quint16\", np.uint16, 1)])\n",
      "C:\\ProgramData\\Anaconda3\\lib\\site-packages\\tensorboard\\compat\\tensorflow_stub\\dtypes.py:545: FutureWarning: Passing (type, 1) or '1type' as a synonym of type is deprecated; in a future version of numpy, it will be understood as (type, (1,)) / '(1,)type'.\n",
      "  _np_qint32 = np.dtype([(\"qint32\", np.int32, 1)])\n",
      "C:\\ProgramData\\Anaconda3\\lib\\site-packages\\tensorboard\\compat\\tensorflow_stub\\dtypes.py:550: FutureWarning: Passing (type, 1) or '1type' as a synonym of type is deprecated; in a future version of numpy, it will be understood as (type, (1,)) / '(1,)type'.\n",
      "  np_resource = np.dtype([(\"resource\", np.ubyte, 1)])\n"
     ]
    }
   ],
   "source": [
    "from keras.models import Sequential  #用來啟動 NN\n",
    "from keras.layers import Conv2D  # Convolution Operation\n",
    "from keras.layers import MaxPooling2D # Pooling\n",
    "from keras.layers import Flatten\n",
    "from keras.layers import Dense # Fully Connected Networks\n"
   ]
  },
  {
   "cell_type": "markdown",
   "metadata": {},
   "source": [
    "## 特徵圖尺寸之變化"
   ]
  },
  {
   "cell_type": "markdown",
   "metadata": {},
   "source": [
    "### 卷積情況下 "
   ]
  },
  {
   "cell_type": "code",
   "execution_count": 2,
   "metadata": {},
   "outputs": [
    {
     "data": {
      "text/plain": [
       "'\\nW:影象寬度、H:影象高度、D:影象深度（channel）、F：卷積核寬高、N:卷積核（過濾器）個數、S:步長、P:用零填充個數\\npadding = \"value\"的情況下:\\n卷積後輸出影象大小：Width=(W-F+2P)/S+1\\n卷積後輸出影象大小：Height=(H-F+2P)/S+1\\n卷積後輸出影象深度：N=D\\npadding = \"same\"的情況下:\\n卷積後輸出影象大小：Width=W/S\\n卷積後輸出影象大小：Height=H/S\\n卷積後輸出影象深度：N=D\\n'"
      ]
     },
     "execution_count": 2,
     "metadata": {},
     "output_type": "execute_result"
    }
   ],
   "source": [
    "\"\"\"\n",
    "W:影象寬度、H:影象高度、D:影象深度（channel）、F：卷積核寬高、N:卷積核（過濾器）個數、S:步長、P:用零填充個數\n",
    "padding = \"value\"的情況下:\n",
    "卷積後輸出影象大小：Width=(W-F+2P)/S+1\n",
    "卷積後輸出影象大小：Height=(H-F+2P)/S+1\n",
    "卷積後輸出影象深度：N=D\n",
    "padding = \"same\"的情況下:\n",
    "卷積後輸出影象大小：Width=W/S\n",
    "卷積後輸出影象大小：Height=H/S\n",
    "卷積後輸出影象深度：N=D\n",
    "\"\"\""
   ]
  },
  {
   "cell_type": "markdown",
   "metadata": {},
   "source": [
    "### 池化情況下"
   ]
  },
  {
   "cell_type": "code",
   "execution_count": 3,
   "metadata": {},
   "outputs": [
    {
     "data": {
      "text/plain": [
       "'\\nW:影象寬度，H:影象高度，D:影象深度（channel）F：卷積核寬高，S:步長\\n池化後輸出影象大小: W=(W-F)/S+1\\n池化後輸出影象大小: H=(H-F)/S+1\\n池化後輸出影象深度: N=D\\n'"
      ]
     },
     "execution_count": 3,
     "metadata": {},
     "output_type": "execute_result"
    }
   ],
   "source": [
    "\"\"\"\n",
    "W:影象寬度，H:影象高度，D:影象深度（channel）F：卷積核寬高，S:步長\n",
    "池化後輸出影象大小: W=(W-F)/S+1\n",
    "池化後輸出影象大小: H=(H-F)/S+1\n",
    "池化後輸出影象深度: N=D\n",
    "\"\"\""
   ]
  },
  {
   "cell_type": "markdown",
   "metadata": {},
   "source": [
    "# 使用Flatten()"
   ]
  },
  {
   "cell_type": "code",
   "execution_count": 4,
   "metadata": {
    "colab": {},
    "colab_type": "code",
    "id": "43xxX0yJxiDr"
   },
   "outputs": [
    {
     "name": "stdout",
     "output_type": "stream",
     "text": [
      "WARNING:tensorflow:From C:\\ProgramData\\Anaconda3\\lib\\site-packages\\keras\\backend\\tensorflow_backend.py:74: The name tf.get_default_graph is deprecated. Please use tf.compat.v1.get_default_graph instead.\n",
      "\n",
      "WARNING:tensorflow:From C:\\ProgramData\\Anaconda3\\lib\\site-packages\\keras\\backend\\tensorflow_backend.py:517: The name tf.placeholder is deprecated. Please use tf.compat.v1.placeholder instead.\n",
      "\n",
      "WARNING:tensorflow:From C:\\ProgramData\\Anaconda3\\lib\\site-packages\\keras\\backend\\tensorflow_backend.py:4138: The name tf.random_uniform is deprecated. Please use tf.random.uniform instead.\n",
      "\n",
      "WARNING:tensorflow:From C:\\ProgramData\\Anaconda3\\lib\\site-packages\\keras\\backend\\tensorflow_backend.py:3976: The name tf.nn.max_pool is deprecated. Please use tf.nn.max_pool2d instead.\n",
      "\n"
     ]
    }
   ],
   "source": [
    "# kernel map大小為 k x k x channel數，也就是 32 x 32 x 3 = 3072 個。\n",
    "input_shape = (32, 32, 3)\n",
    "\n",
    "model = Sequential() #建造一個一層的CNN層\n",
    "# Kernel size 3*3，用32張，輸入大小32*32*3\n",
    "# 總共有 32 x 32 x 3 x 32 =98304個參數量。\n",
    "model.add(Conv2D(32, kernel_size=(3, 3), padding='same',input_shape=input_shape))\n",
    "##Kernel size 3*3，用32張\n",
    "model.add(MaxPooling2D(pool_size=(2, 2),strides=(2,2)))  ##pooling_size=2,2 strides=2,2 輸出feature map 大小為多少？\n",
    "model.add(Conv2D(64, kernel_size=(3, 3), padding='same'))\n",
    "##Kernel size 3*3，用64張\n",
    "model.add(MaxPooling2D(pool_size=(2, 2),strides=(2,2)))##pooling_size=2,2 strides=2,2 輸出feature map 大小為多少？\n",
    "\n",
    "model.add(Conv2D(128, kernel_size=(3, 3), padding='same'))\n",
    "##Kernel size 3*3，用128張\n",
    "model.add(MaxPooling2D(pool_size=(2, 2),strides=(2,2)))##pooling_size=1,1 strides=1,1 輸出feature map 大小為多少？\n",
    "\n",
    "model.add(Conv2D(10, kernel_size=(3, 3), padding='same'))\n",
    "##Kernel size 3*3，用10張\n",
    "model.add(Flatten()) ##Flatten完尺寸如何變化？\n",
    "#model.add(GlobalAveragePooling2D()) #關掉Flatten，使用GlobalAveragePooling2D，完尺寸如何變化？\n",
    "\n",
    "model.add(Dense(units=28)) ##全連接層使用28個units"
   ]
  },
  {
   "cell_type": "code",
   "execution_count": 5,
   "metadata": {
    "colab": {},
    "colab_type": "code",
    "id": "nFgU3mB-xiDt",
    "outputId": "6fb884fa-75ad-4b47-b5c6-1fc948b2d614"
   },
   "outputs": [
    {
     "name": "stdout",
     "output_type": "stream",
     "text": [
      "_________________________________________________________________\n",
      "Layer (type)                 Output Shape              Param #   \n",
      "=================================================================\n",
      "conv2d_1 (Conv2D)            (None, 32, 32, 32)        896       \n",
      "_________________________________________________________________\n",
      "max_pooling2d_1 (MaxPooling2 (None, 16, 16, 32)        0         \n",
      "_________________________________________________________________\n",
      "conv2d_2 (Conv2D)            (None, 16, 16, 64)        18496     \n",
      "_________________________________________________________________\n",
      "max_pooling2d_2 (MaxPooling2 (None, 8, 8, 64)          0         \n",
      "_________________________________________________________________\n",
      "conv2d_3 (Conv2D)            (None, 8, 8, 128)         73856     \n",
      "_________________________________________________________________\n",
      "max_pooling2d_3 (MaxPooling2 (None, 4, 4, 128)         0         \n",
      "_________________________________________________________________\n",
      "conv2d_4 (Conv2D)            (None, 4, 4, 10)          11530     \n",
      "_________________________________________________________________\n",
      "flatten_1 (Flatten)          (None, 160)               0         \n",
      "_________________________________________________________________\n",
      "dense_1 (Dense)              (None, 28)                4508      \n",
      "=================================================================\n",
      "Total params: 109,286\n",
      "Trainable params: 109,286\n",
      "Non-trainable params: 0\n",
      "_________________________________________________________________\n"
     ]
    }
   ],
   "source": [
    "model.summary()"
   ]
  },
  {
   "cell_type": "markdown",
   "metadata": {},
   "source": [
    "# 無Flatten()"
   ]
  },
  {
   "cell_type": "code",
   "execution_count": 6,
   "metadata": {},
   "outputs": [
    {
     "name": "stdout",
     "output_type": "stream",
     "text": [
      "_________________________________________________________________\n",
      "Layer (type)                 Output Shape              Param #   \n",
      "=================================================================\n",
      "conv2d_5 (Conv2D)            (None, 32, 32, 32)        896       \n",
      "_________________________________________________________________\n",
      "max_pooling2d_4 (MaxPooling2 (None, 16, 16, 32)        0         \n",
      "_________________________________________________________________\n",
      "conv2d_6 (Conv2D)            (None, 16, 16, 64)        18496     \n",
      "_________________________________________________________________\n",
      "max_pooling2d_5 (MaxPooling2 (None, 8, 8, 64)          0         \n",
      "_________________________________________________________________\n",
      "conv2d_7 (Conv2D)            (None, 8, 8, 128)         73856     \n",
      "_________________________________________________________________\n",
      "max_pooling2d_6 (MaxPooling2 (None, 8, 8, 128)         0         \n",
      "_________________________________________________________________\n",
      "conv2d_8 (Conv2D)            (None, 8, 8, 10)          11530     \n",
      "_________________________________________________________________\n",
      "dense_2 (Dense)              (None, 8, 8, 28)          308       \n",
      "=================================================================\n",
      "Total params: 105,086\n",
      "Trainable params: 105,086\n",
      "Non-trainable params: 0\n",
      "_________________________________________________________________\n"
     ]
    }
   ],
   "source": [
    "input_shape = (32, 32, 3)\n",
    "\n",
    "model = Sequential() #建造一個一層的CNN層\n",
    "# Kernel size 3*3，用32張，輸入大小32*32*1\n",
    "model.add(Conv2D(32, kernel_size=(3, 3), padding='same',input_shape=input_shape))\n",
    "model.add(MaxPooling2D((2,2), strides = (2,2)))  ##pooling_size=2,2 strides=2,2 輸出feature map 大小為多少？\n",
    "##Kernel size 3*3，用64張\n",
    "model.add(Conv2D(64, kernel_size=(3, 3), padding='same'))\n",
    "model.add(MaxPooling2D((2,2), strides = (2,2)))##pooling_size=2,2 strides=2,2 輸出feature map 大小為多少？\n",
    "##Kernel size 3*3，用128張\n",
    "model.add(Conv2D(128, kernel_size=(3, 3), padding='same'))\n",
    "model.add(MaxPooling2D((1,1), strides = (1,1)))##pooling_size=1,1 strides=1,1 輸出feature map 大小為多少？\n",
    "##Kernel size 3*3，用10張\n",
    "model.add(Conv2D(10, kernel_size=(3, 3), padding='same'))\n",
    "#model.add(Flatten()) ##Flatten完尺寸如何變化？\n",
    "#model.add(GlobalAveragePooling2D()) #關掉Flatten，使用GlobalAveragePooling2D，完尺寸如何變化？\n",
    "\n",
    "model.add(Dense(units=28)) ##全連接層使用28個units使用28個神經元\n",
    "\n",
    "model.summary()"
   ]
  },
  {
   "cell_type": "markdown",
   "metadata": {},
   "source": [
    "# 使用GlobalAveragePooling2D"
   ]
  },
  {
   "cell_type": "code",
   "execution_count": 7,
   "metadata": {},
   "outputs": [
    {
     "name": "stdout",
     "output_type": "stream",
     "text": [
      "_________________________________________________________________\n",
      "Layer (type)                 Output Shape              Param #   \n",
      "=================================================================\n",
      "conv2d_9 (Conv2D)            (None, 32, 32, 32)        896       \n",
      "_________________________________________________________________\n",
      "max_pooling2d_7 (MaxPooling2 (None, 16, 16, 32)        0         \n",
      "_________________________________________________________________\n",
      "conv2d_10 (Conv2D)           (None, 16, 16, 64)        18496     \n",
      "_________________________________________________________________\n",
      "max_pooling2d_8 (MaxPooling2 (None, 8, 8, 64)          0         \n",
      "_________________________________________________________________\n",
      "conv2d_11 (Conv2D)           (None, 8, 8, 128)         73856     \n",
      "_________________________________________________________________\n",
      "max_pooling2d_9 (MaxPooling2 (None, 8, 8, 128)         0         \n",
      "_________________________________________________________________\n",
      "conv2d_12 (Conv2D)           (None, 8, 8, 10)          11530     \n",
      "_________________________________________________________________\n",
      "flatten_2 (Flatten)          (None, 640)               0         \n",
      "_________________________________________________________________\n",
      "dense_3 (Dense)              (None, 28)                17948     \n",
      "=================================================================\n",
      "Total params: 122,726\n",
      "Trainable params: 122,726\n",
      "Non-trainable params: 0\n",
      "_________________________________________________________________\n"
     ]
    }
   ],
   "source": [
    "from keras.layers import GlobalAveragePooling2D\n",
    "input_shape = (32, 32, 3)\n",
    "\n",
    "model = Sequential() #建造一個一層的CNN層\n",
    "##Kernel size 3*3，用32張，輸入大小32*32*1\n",
    "model.add(Conv2D(32, kernel_size=(3, 3), padding='same',input_shape=input_shape))\n",
    "model.add(MaxPooling2D((2,2), strides = (2,2)))  ##pooling_size=2,2 strides=2,2 輸出feature map 大小為多少？\n",
    "'''\n",
    "Output = (Input - Kernel_size + 2 * padding) / stride + 1 = (32 - 3 + 2 * 1) / 1 + 1 = 32\n",
    "Pooling\n",
    "Output = (Input - Kernel_size) / stride + 1 = (32 - 2) / 2 + 1 = 16\n",
    "'''\n",
    "##Kernel size 3*3，用64張\n",
    "model.add(Conv2D(64, kernel_size=(3, 3), padding='same'))\n",
    "model.add(MaxPooling2D((2,2), strides = (2,2)))##pooling_size=2,2 strides=2,2 輸出feature map 大小為多少？\n",
    "##Kernel size 3*3，用128張\n",
    "model.add(Conv2D(128, kernel_size=(3, 3), padding='same'))\n",
    "model.add(MaxPooling2D((1,1), strides = (1,1)))##pooling_size=1,1 strides=1,1 輸出feature map 大小為多少？\n",
    "##Kernel size 3*3，用10張\n",
    "model.add(Conv2D(10, kernel_size=(3, 3), padding='same'))\n",
    "model.add(Flatten()) ##Flatten完尺寸如何變化？\n",
    "#model.add(GlobalAveragePooling2D()) #關掉Flatten，使用GlobalAveragePooling2D，完尺寸如何變化？\n",
    "\n",
    "model.add(Dense(units=28)) ##全連接層使用28個units使用28個神經元\n",
    "\n",
    "model.summary()"
   ]
  },
  {
   "cell_type": "markdown",
   "metadata": {},
   "source": [
    "## Reference "
   ]
  },
  {
   "cell_type": "markdown",
   "metadata": {},
   "source": [
    "https://www.itread01.com/content/1546615462.html"
   ]
  },
  {
   "cell_type": "code",
   "execution_count": null,
   "metadata": {},
   "outputs": [],
   "source": []
  }
 ],
 "metadata": {
  "colab": {
   "name": "池化、全連接層.ipynb",
   "provenance": []
  },
  "kernelspec": {
   "display_name": "Python 3",
   "language": "python",
   "name": "python3"
  },
  "language_info": {
   "codemirror_mode": {
    "name": "ipython",
    "version": 3
   },
   "file_extension": ".py",
   "mimetype": "text/x-python",
   "name": "python",
   "nbconvert_exporter": "python",
   "pygments_lexer": "ipython3",
   "version": "3.7.6"
  }
 },
 "nbformat": 4,
 "nbformat_minor": 1
}
