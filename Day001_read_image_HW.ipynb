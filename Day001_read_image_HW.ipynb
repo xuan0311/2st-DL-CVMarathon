{
 "cells": [
  {
   "cell_type": "markdown",
   "metadata": {},
   "source": [
    "# 作業\n",
    "\n",
    "思考一下我們前面有提到圖片是矩陣，但維度可能會不一樣\n",
    "例如灰階圖只有兩個維度，RGB 彩圖則有 3 個維度\n",
    "\n",
    "假如今天我們把 RGB 3 個維度拆開來看會有甚麼不同的效果呢？"
   ]
  },
  {
   "cell_type": "markdown",
   "metadata": {},
   "source": [
    "cv2.IMREAD_COLOR (預設值)\n",
    "\n",
    "    載入包含 Blue, Green, Red 三個 channel 的彩⾊色圖片\n",
    "\n",
    "cv2.IMREAD_GRAYSCALE\n",
    "    \n",
    "    載入灰階格式的圖片\n",
    "\n",
    "cv2.IMREAD_UNCHANGED\n",
    "\n",
    "    載入圖片中所有 channel"
   ]
  },
  {
   "cell_type": "code",
   "execution_count": 2,
   "metadata": {},
   "outputs": [
    {
     "name": "stdout",
     "output_type": "stream",
     "text": [
      "圖片類型:  <class 'numpy.ndarray'>\n",
      "圖片類型:  <class 'numpy.ndarray'>\n",
      "===================================================================================================================\n"
     ]
    }
   ],
   "source": [
    "# 載入套件\n",
    "import cv2\n",
    "\n",
    "# 設定檔案路徑\n",
    "img_path = 'Data/lena.png'\n",
    "\n",
    "# 以彩色圖片的方式載入\n",
    "# cv2.imread:用來載入圖片\n",
    "img = cv2.imread(img_path, cv2.IMREAD_COLOR) #cv2.IMREAD_COLOR為預設值\n",
    "print(\"圖片類型: \",type(img))\n",
    "# 以灰階圖片的方式載入\n",
    "img_gray = cv2.imread(img_path, cv2.IMREAD_GRAYSCALE)\n",
    "print(\"圖片類型: \",type(img_gray))\n",
    "print(\"===================================================================================================================\")\n",
    "# 為了要不斷顯示圖片，所以使用一個迴圈\n",
    "while True:\n",
    "    # 顯示彩圖\n",
    "    cv2.imshow('bgr', img) #'bgr':視窗名字，img:要顯示的圖片。\n",
    "    # 顯示灰圖\n",
    "    cv2.imshow('gray', img_gray) # 'gray': 視窗名字，img_gray: 要顯示的名字。\n",
    "\n",
    "    # 直到按下 ESC 鍵才會自動關閉視窗結束程式\n",
    "    k = cv2.waitKey(0)\n",
    "    if k == 27:\n",
    "        cv2.destroyAllWindows()\n",
    "        break"
   ]
  },
  {
   "cell_type": "code",
   "execution_count": 4,
   "metadata": {},
   "outputs": [
    {
     "name": "stdout",
     "output_type": "stream",
     "text": [
      "image_shape:  (512, 512, 3)\n",
      "img_gray_shape:  (512, 512)\n"
     ]
    }
   ],
   "source": [
    "print(\"image_shape: \", img.shape)\n",
    "print(\"img_gray_shape: \", img_gray.shape)"
   ]
  },
  {
   "cell_type": "code",
   "execution_count": 5,
   "metadata": {},
   "outputs": [
    {
     "data": {
      "text/plain": [
       "27"
      ]
     },
     "execution_count": 5,
     "metadata": {},
     "output_type": "execute_result"
    }
   ],
   "source": [
    "#R、G、B分量的提取\n",
    "(B,G,R) = cv2.split(img)#提取R、G、B分量\n",
    "cv2.imshow(\"Red\",R)\n",
    "cv2.imshow(\"Green\",G)\n",
    "cv2.imshow(\"Blue\",B)\n",
    "cv2.waitKey(0)"
   ]
  },
  {
   "cell_type": "markdown",
   "metadata": {},
   "source": [
    "# Reference"
   ]
  },
  {
   "cell_type": "markdown",
   "metadata": {},
   "source": [
    "https://blog.gtwang.org/programming/opencv-basic-image-read-and-write-tutorial/\n",
    "\n",
    "https://blog.csdn.net/jnulzl/article/details/47133479"
   ]
  },
  {
   "cell_type": "code",
   "execution_count": null,
   "metadata": {},
   "outputs": [],
   "source": []
  }
 ],
 "metadata": {
  "kernelspec": {
   "display_name": "Python 3",
   "language": "python",
   "name": "python3"
  },
  "language_info": {
   "codemirror_mode": {
    "name": "ipython",
    "version": 3
   },
   "file_extension": ".py",
   "mimetype": "text/x-python",
   "name": "python",
   "nbconvert_exporter": "python",
   "pygments_lexer": "ipython3",
   "version": "3.7.6"
  }
 },
 "nbformat": 4,
 "nbformat_minor": 2
}
